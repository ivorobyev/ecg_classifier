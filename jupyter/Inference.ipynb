{
 "cells": [
  {
   "cell_type": "code",
   "execution_count": 1,
   "metadata": {},
   "outputs": [
    {
     "name": "stderr",
     "output_type": "stream",
     "text": [
      "Using TensorFlow backend.\n"
     ]
    },
    {
     "data": {
      "text/plain": [
       "[0.25652134, 0.4243389, 0.31475922, 0.26354855, 0.2906406]"
      ]
     },
     "execution_count": 1,
     "metadata": {},
     "output_type": "execute_result"
    }
   ],
   "source": [
    "import numpy as np\n",
    "import pandas as pd\n",
    "from keras.models import load_model\n",
    "\n",
    "#load model\n",
    "model = load_model('ecg_classifier.h5')\n",
    "\n",
    "#load_ecg\n",
    "sample = pd.read_csv('sample.csv')\n",
    "ecg = np.array(sample)\n",
    "\n",
    "#get probabilities over window\n",
    "start_index = 0\n",
    "end_index = 187\n",
    "fragment_probs = []\n",
    "while end_index < len(ecg):\n",
    "    fragment_probs.append(model.predict(ecg[start_index:end_index][np.newaxis,:,:]))\n",
    "    start_index += 1\n",
    "    end_index += 1\n",
    "\n",
    "#probability threshold to compute mean values\n",
    "threshold = 0.2\n",
    "\n",
    "#compute mean probabilities\n",
    "finite_probs = list(map(lambda x: np.mean(x[x >= threshold]), \n",
    "                        np.array(fragment_probs).T))\n",
    "\n",
    "finite_probs\n"
   ]
  },
  {
   "cell_type": "code",
   "execution_count": null,
   "metadata": {},
   "outputs": [],
   "source": []
  }
 ],
 "metadata": {
  "kernelspec": {
   "display_name": "Python 3",
   "language": "python",
   "name": "python3"
  },
  "language_info": {
   "codemirror_mode": {
    "name": "ipython",
    "version": 3
   },
   "file_extension": ".py",
   "mimetype": "text/x-python",
   "name": "python",
   "nbconvert_exporter": "python",
   "pygments_lexer": "ipython3",
   "version": "3.7.6"
  }
 },
 "nbformat": 4,
 "nbformat_minor": 4
}
